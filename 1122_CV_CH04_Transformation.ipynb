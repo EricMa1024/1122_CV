{
 "cells": [
  {
   "cell_type": "code",
   "execution_count": 14,
   "id": "dedb6c9f-5b92-4d43-903a-f3dc34c583d0",
   "metadata": {},
   "outputs": [
    {
     "data": {
      "text/plain": [
       "-1"
      ]
     },
     "execution_count": 14,
     "metadata": {},
     "output_type": "execute_result"
    }
   ],
   "source": [
    "# 最鄰近插值法\n",
    "# 使用最近鄰插值當速度是關鍵，或者處理的是像素藝術風格的影像。\n",
    "# 使用雙線性插值當質量是關鍵，需要較平滑的影像質量，尤其是在進行大比例的影像縮放或旋轉。\n",
    "\n",
    "import numpy as np\n",
    "import cv2 as cv\n",
    "\n",
    "# 最近臨插值\n",
    "def nearest_neighbor(src, dst_shape):\n",
    "    # 獲取原圖維度\n",
    "    src_height, src_width = src.shape[0], src.shape[1]\n",
    "    # 計算新圖維度\n",
    "    dst_height, dst_width, channels = dst_shape[0], dst_shape[1], dst_shape[2]\n",
    "\n",
    "    dst = np.zeros(shape = (dst_height, dst_width, channels), dtype=np.uint8)\n",
    "    for dst_y in range(dst_height):\n",
    "        for dst_x in range(dst_width):\n",
    "            # 尋找來源圖形對應座標\n",
    "            src_x = dst_x * ((src_width*1.0)/dst_width)\n",
    "            src_y = dst_y * ((src_height*1.0)/dst_height)\n",
    "\n",
    "            # 把浮點數值轉換成整數\n",
    "            src_x = int(src_x)\n",
    "            src_y = int(src_y)\n",
    "\n",
    "            # 插值\n",
    "            dst[dst_y, dst_x,:] = src[src_y, src_x,:]\n",
    "        return dst\n",
    "\n",
    "src = cv.imread(r'1122_CV_Images/Julia_001.jpg')\n",
    "dst = nearest_neighbor(src, dst_shape=(720, 540,3))\n",
    "\n",
    "# 顯示\n",
    "cv.namedWindow('src', cv.WINDOW_AUTOSIZE)\n",
    "cv.imshow(\"src\",src)\n",
    "cv.namedWindow('dst', cv.WINDOW_AUTOSIZE)\n",
    "cv.imshow(\"dst\",dst)\n",
    "cv.waitKey(0)\n"
   ]
  },
  {
   "cell_type": "code",
   "execution_count": 15,
   "id": "0ad1a626-0097-470d-a44d-cb5e797b1ba6",
   "metadata": {},
   "outputs": [
    {
     "data": {
      "text/plain": [
       "-1"
      ]
     },
     "execution_count": 15,
     "metadata": {},
     "output_type": "execute_result"
    }
   ],
   "source": [
    "# 改變影像尺寸(Resize)\n",
    "\n",
    "import cv2 as cv\n",
    "\n",
    "src = cv.imread(r'1122_CV_Images/Julia_001.jpg')\n",
    "reimg = cv.resize(src, (256,256), interpolation = cv.INTER_NEAREST)\n",
    "cv.imshow('src', src)\n",
    "cv.imshow('result', reimg)\n",
    "cv.waitKey(0)"
   ]
  },
  {
   "cell_type": "code",
   "execution_count": 18,
   "id": "13aebbd3-e1f3-42ab-bbd7-99e2e2b1b8d3",
   "metadata": {},
   "outputs": [
    {
     "data": {
      "text/plain": [
       "-1"
      ]
     },
     "execution_count": 18,
     "metadata": {},
     "output_type": "execute_result"
    }
   ],
   "source": [
    "# 使用雙線性內插\n",
    "# 使用最近鄰插值當速度是關鍵，或者處理的是像素藝術風格的影像。\n",
    "# 使用雙線性插值當質量是關鍵，需要較平滑的影像質量，尤其是在進行大比例的影像縮放或旋轉。\n",
    "\n",
    "import cv2 as cv\n",
    "\n",
    "src = cv.imread(r'1122_CV_Images/Julia_002.jpg')\n",
    "\n",
    "# 這邊的interpolation從cv.INTER_NEAREST -> cv.INTER_LINEAR\n",
    "reimg_LINEAR = cv.resize(src, (256,256), interpolation = cv.INTER_LINEAR)\n",
    "\n",
    "cv.imshow('src', src)\n",
    "cv.imshow('result_reimg_LINEAR', reimg_LINEAR)\n",
    "cv.waitKey(0)"
   ]
  },
  {
   "cell_type": "code",
   "execution_count": 2,
   "id": "cbc94a10-b0cb-4802-b5e2-e3993706abe3",
   "metadata": {},
   "outputs": [
    {
     "data": {
      "text/plain": [
       "-1"
      ]
     },
     "execution_count": 2,
     "metadata": {},
     "output_type": "execute_result"
    }
   ],
   "source": [
    "# 影像翻轉\n",
    "# 函數：cv2.flip()\n",
    "\n",
    "import cv2 as cv\n",
    "\n",
    "# 讀取影像\n",
    "src = cv.imread(r'1122_CV_Images/Julia_002.jpg')\n",
    "\n",
    "# 上下翻轉\n",
    "dst_1 = cv.flip(src, 0)\n",
    "# 左右翻轉\n",
    "dst_2 = cv.flip(src, 1)\n",
    "# 上下+左右翻轉\n",
    "dst_3 = cv.flip(src, -1)\n",
    "\n",
    "cv.imshow('normal', src)\n",
    "cv.imshow('up_down', dst_1)\n",
    "cv.imshow('left_rigth', dst_2)\n",
    "cv.imshow('up_down and left_rigth ', dst_3)\n",
    "cv.waitKey(0)"
   ]
  },
  {
   "cell_type": "code",
   "execution_count": 2,
   "id": "5fe47e24-e27b-49ab-9237-e6c661298b01",
   "metadata": {},
   "outputs": [],
   "source": [
    "# 影像平移\n",
    "# 函數：cv2.warpAffine()\n",
    "\n",
    "import cv2 as cv\n",
    "import numpy as np\n",
    "\n",
    "# 讀取影像\n",
    "src = cv.imread(r'1122_CV_Images/Julia_002.jpg')\n",
    "cv.imshow('normal', src)\n",
    "\n",
    "# 取得影像大小\n",
    "height, width = src.shape[0:2]\n",
    "\n",
    "# 建立目標影像大小\n",
    "dsize = (width, height)\n",
    "\n",
    "# 平移量，x=30，y=60\n",
    "x = 30\n",
    "y = 60\n",
    "M = np.float32([[1,0,x],\n",
    "               [0,1,y]])\n",
    "dst = cv.warpAffine(src, M, dsize)\n",
    "cv.imshow('dst', dst)\n",
    "\n",
    "cv.waitKey(0)\n",
    "cv.destroyAllWindows()"
   ]
  },
  {
   "cell_type": "code",
   "execution_count": 5,
   "id": "995915bb-1d1f-432d-bda3-c6890f8caa9d",
   "metadata": {},
   "outputs": [],
   "source": [
    "# 影像旋轉\n",
    "# 函數：cv2.getRotationMatrix2D()\n",
    "\n",
    "import cv2 as cv\n",
    "\n",
    "# 讀取影像\n",
    "src = cv.imread(r'1122_CV_Images/Julia_002.jpg')\n",
    "cv.imshow('normal', src)\n",
    "\n",
    "# 取得影像大小\n",
    "height, width = src.shape[0:2]\n",
    "\n",
    "# 逆時鐘轉30度\n",
    "# 建立矩陣:M\n",
    "M = cv.getRotationMatrix2D((width/2, height/2), 30, 1)\n",
    "\n",
    "# 建立未來影像大小\n",
    "dsize = (width, height)\n",
    "\n",
    "# 執行仿射\n",
    "dst = cv.warpAffine(src, M, dsize)\n",
    "# 顯示逆時針影像\n",
    "cv.imshow('counterclockwise', dst)\n",
    "\n",
    "# 順時鐘轉30度\n",
    "# 建立矩陣:M\n",
    "M = cv.getRotationMatrix2D((width/2, height/2), -30, 1)\n",
    "\n",
    "# 執行仿射\n",
    "dst1 = cv.warpAffine(src, M, dsize)\n",
    "# 顯示順時針影像\n",
    "cv.imshow('clockwise', dst1)\n",
    "\n",
    "cv.waitKey(0)\n",
    "cv.destroyAllWindows()"
   ]
  },
  {
   "cell_type": "code",
   "execution_count": 10,
   "id": "3ce83bd3-414f-4510-8dcf-4a128e842d3f",
   "metadata": {},
   "outputs": [
    {
     "name": "stdout",
     "output_type": "stream",
     "text": [
      "[[  0.   0.]\n",
      " [476.   0.]\n",
      " [  0. 430.]]\n",
      "[[  0.   142.23]\n",
      " [405.45 107.75]\n",
      " [ 71.55 301.7 ]]\n"
     ]
    }
   ],
   "source": [
    "# 影像傾斜\n",
    "# 函數：cv2.getAffineTransform()\n",
    "\n",
    "import cv2 as cv\n",
    "import numpy as np\n",
    "\n",
    "# 讀取影像\n",
    "src = cv.imread(r'1122_CV_Images/Julia_002.jpg')\n",
    "rows, cols = src.shape[0:2]\n",
    "\n",
    "p1 = np.float32([[0,0],[cols-1,0],[0,rows-1]])\n",
    "p2 = np.float32([[0,rows*0.33], [cols*0.85, rows*0.25], [cols*0.15, rows*0.7]])\n",
    "\n",
    "# 藉由函數cv2.getAffineTransform()去取得矩陣M\n",
    "# 並利用這個矩陣去進行仿射到dst中\n",
    "M = cv.getAffineTransform(p1,p2)\n",
    "dst = cv.warpAffine(src, M, (cols, rows))\n",
    "\n",
    "cv.imshow('Origin', src)\n",
    "cv.imshow('Result', dst)\n",
    "\n",
    "print(p1)\n",
    "print(p2)\n",
    "\n",
    "cv.waitKey(0)\n",
    "cv.destroyAllWindows()"
   ]
  },
  {
   "cell_type": "code",
   "execution_count": 14,
   "id": "3c58e72d-d49b-4366-b9f7-9be91dd9fdf4",
   "metadata": {},
   "outputs": [],
   "source": [
    "# 影像透視(Perspective Transformation)\n",
    "# 把3D的影像投射到2D平面上，例如：文檔校正、建築物會用上，也呼應到了橋上人流的專案\n",
    "\n",
    "# 讀取影像\n",
    "src = cv.imread(r'1122_CV_Images/Transform_001.jpg')\n",
    "\n",
    "# 取得影像大小\n",
    "height, width = src.shape[0:2]\n",
    "\n",
    "# 取得對應的點座標\n",
    "pts_before = np.float32([[75,55],[340,55],[33,435],[400,433]])\n",
    "pts_after = np.float32([[0,0],[360,0],[0,420],[360,420]])\n",
    "\n",
    "# 計算得到轉換矩陣\n",
    "M = cv.getPerspectiveTransform(pts_before, pts_after)\n",
    "\n",
    "# 實現透視變換轉換\n",
    "processed = cv.warpPerspective(src, M, (1440, 1680))\n",
    "\n",
    "# 顯示原圖&透視後的圖\n",
    "cv.imshow('Origin', src)\n",
    "cv.imshow('Result', processed)\n",
    "cv.waitKey(0)\n",
    "cv.destroyAllWindows()\n"
   ]
  },
  {
   "cell_type": "code",
   "execution_count": null,
   "id": "ffb57707-a85c-44a6-b3ca-5f25b63dfec4",
   "metadata": {},
   "outputs": [],
   "source": []
  }
 ],
 "metadata": {
  "kernelspec": {
   "display_name": "1122_CV",
   "language": "python",
   "name": "1122_cv"
  },
  "language_info": {
   "codemirror_mode": {
    "name": "ipython",
    "version": 3
   },
   "file_extension": ".py",
   "mimetype": "text/x-python",
   "name": "python",
   "nbconvert_exporter": "python",
   "pygments_lexer": "ipython3",
   "version": "3.8.18"
  }
 },
 "nbformat": 4,
 "nbformat_minor": 5
}
